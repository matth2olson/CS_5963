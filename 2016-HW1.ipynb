{
 "cells": [
  {
   "cell_type": "markdown",
   "metadata": {},
   "source": [
    "# Introduction to Data Science - Homework 1\n",
    "*CS 5963 / MATH 3900, University of Utah, http://datasciencecourse.net/*\n",
    "\n",
    "Due: Friday, September 2, 11:59pm.\n",
    "\n",
    "This homework is designed to practice the skills we learned in Lab 1: working with loops, conditions, functions, and the built-in Python data structures. Make sure to go through the lab again in case you have any troubles.\n",
    "\n",
    "In this homework we'll do some calculations that are also available in various libraries. For the purpose of this homework, however, **stick to standard python functionality and the math library** and re-implement, e.g., the functionality for calculating the mean of a vector instead of just calling a mean function. \n",
    "\n",
    "However, we encourage you to check your results using, e.g., the [NumPy library](http://docs.scipy.org/doc/numpy-1.11.0/reference/routines.statistics.html) and include the checks as a separate code cell. "
   ]
  },
  {
   "cell_type": "markdown",
   "metadata": {},
   "source": [
    "## Your Data\n",
    "Fill out the following information: \n",
    "\n",
    "**First Name:** Matthew\n",
    "**Last Name:** Olson   \n",
    "**E-mail:** matthew.olson@geog.utah.edu   \n",
    "**UID:** u1037042  \n"
   ]
  },
  {
   "cell_type": "markdown",
   "metadata": {},
   "source": [
    "## Part 1: Vector data"
   ]
  },
  {
   "cell_type": "markdown",
   "metadata": {},
   "source": [
    "We first will work with a vector of yearly average temperatures from New Haven published [here](https://vincentarelbundock.github.io/Rdatasets/datasets.html). The data is included in this repository in the file `nhtmep.csv`.\n",
    "\n",
    "The data is stored in the CSV format, which is a simple textfile with 'Comma Seperated Values'.\n",
    "To load the data to into a (nested) python array, we use the [csv](https://docs.python.org/3/library/csv.html) library. The following code reads the file and stores it in a vector:"
   ]
  },
  {
   "cell_type": "code",
   "execution_count": 2,
   "metadata": {
    "collapsed": false
   },
   "outputs": [
    {
     "name": "stdout",
     "output_type": "stream",
     "text": [
      " [49.9, 52.3, 49.4, 51.1, 49.4, 47.9, 49.8, 50.9, 49.3, 51.9, 50.8, 49.6, 49.3, 50.6, 48.4, 50.7, 50.9, 50.6, 51.5, 52.8, 51.8, 51.1, 49.8, 50.2, 50.4, 51.6, 51.8, 50.9, 48.8, 51.7, 51.0, 50.6, 51.7, 51.5, 52.1, 51.3, 51.0, 54.0, 51.4, 52.7, 53.1, 54.6, 52.0, 52.0, 50.9, 52.6, 50.2, 52.6, 51.6, 51.9, 50.5, 50.9, 51.7, 51.4, 51.7, 50.8, 51.9, 51.8, 51.9, 53.0]\n"
     ]
    }
   ],
   "source": [
    "# import the csv library\n",
    "import csv\n",
    "# import the math library we'll use later\n",
    "import math\n",
    "\n",
    "# initialize the array\n",
    "temperature_vector = []\n",
    "\n",
    "# open the file and append the values of the last column to the array\n",
    "with open('nhtemp.csv') as csvfile:\n",
    "    filereader = csv.reader(csvfile, delimiter=',', quotechar='|')\n",
    "    # remove the first item as it is the title.\n",
    "    next(filereader)\n",
    "    for row in filereader:\n",
    "        # here we append to the array and also cast from string to float\n",
    "        temperature_vector.append(float(row[2]))\n",
    "        \n",
    "# print the vector to see if it worked\n",
    "print (temperature_vector)"
   ]
  },
  {
   "cell_type": "markdown",
   "metadata": {},
   "source": [
    "We'll use the `temperature_vector` to calculate a couple of standard statistical measures next."
   ]
  },
  {
   "cell_type": "markdown",
   "metadata": {},
   "source": [
    "### Task 1.1: Calculate the Mean of a Vector\n",
    "\n",
    "Write a function that calculates and returns the [arithmetic mean](https://en.wikipedia.org/wiki/Arithmetic_mean) of a vector that you pass into it. \n",
    "\n",
    "Pass the temperature vector into this function and print the result. Provide a written interpretation of your results (e.g., \"The mean temperature for New Haven for the years 1912 to 1971 is XXX degrees Fahrenheit.\")"
   ]
  },
  {
   "cell_type": "code",
   "execution_count": 3,
   "metadata": {
    "collapsed": false
   },
   "outputs": [
    {
     "name": "stdout",
     "output_type": "stream",
     "text": [
      "My Function:  51.16\n",
      "Error Checking:  51.16\n"
     ]
    }
   ],
   "source": [
    "## your code goes here\n",
    "def mean(vector):\n",
    "    a = sum(vector)/len(vector)\n",
    "    return a\n",
    "# the call to your function (won't work before you implement it)\n",
    "print \"My Function: \", mean(temperature_vector)\n",
    "\n",
    "# check work\n",
    "import numpy as np\n",
    "print \"Error Checking: \", np.mean(temperature_vector)"
   ]
  },
  {
   "cell_type": "markdown",
   "metadata": {},
   "source": [
    "**Your Interpretation:** The mean temperature for New Haven between years 1912 and 1971 is 51.16 degrees Farenheit."
   ]
  },
  {
   "cell_type": "markdown",
   "metadata": {},
   "source": [
    "### Task 1.2: Calculate the Median of a Vector\n",
    "Write a function that calculates and returns the [median](https://en.wikipedia.org/wiki/Median) of a vector. Pass the temperature vector into this function and print the result. Make sure that your function works for both, functions with an even and with an odd number of elements. In case of an even number of elements, use the mean of the two middle values. Provide a written interpretation of your results.\n",
    "\n",
    "Hint: the [`sorted()`](https://docs.python.org/3/library/functions.html#sorted) function might be helpful for this."
   ]
  },
  {
   "cell_type": "code",
   "execution_count": 4,
   "metadata": {
    "collapsed": false
   },
   "outputs": [
    {
     "name": "stdout",
     "output_type": "stream",
     "text": [
      "My Function:  51.2\n",
      "Error Checking:  51.2\n"
     ]
    }
   ],
   "source": [
    "## your code goes here\n",
    "def median(vector):\n",
    "    vector = sorted(vector)\n",
    "    n = len(vector)\n",
    "    o = n - 1 # if 'n' is even will return mean between two numbers (if odd, 'o' and 'n' are same)\n",
    "    med = (vector[n/2] + vector[o/2])/ 2.0\n",
    "    return med\n",
    "\n",
    "# the call to your function\n",
    "print \"My Function: \", median(temperature_vector)\n",
    "\n",
    "# check work\n",
    "import numpy as np\n",
    "print \"Error Checking: \", np.median(temperature_vector)"
   ]
  },
  {
   "cell_type": "markdown",
   "metadata": {},
   "source": [
    "**Your Interpretation:** The median temperature for New Haven between years 1912 and 1971 is 51.2 degrees Farenheit, which is close to the mean.\n"
   ]
  },
  {
   "cell_type": "markdown",
   "metadata": {},
   "source": [
    "### Task 1.3: Calculate the Standard Deviation of a Vector\n",
    "\n",
    "Write a function that calculates and returns the [standard deviation](https://en.wikipedia.org/wiki/Standard_deviation) of a vector. Pass the temperature vector into this function and print the result. Provide a written interpretation of your results.\n",
    "\n",
    "The standard deviation is the square root of the average of the squared deviations from the mean, i.e.,\n",
    "\n",
    "$$\\sigma = \\sqrt{\\frac{1}{N} \\sum_{i=1}^{N} {{(x_i - \\mu)}^2} }$$\n",
    "\n",
    "where $\\mu$ is the mean of the vector. Hint: use your mean function to calculate it."
   ]
  },
  {
   "cell_type": "markdown",
   "metadata": {},
   "source": [
    "Hint: the `sqrt()` function from the [`math library`](https://docs.python.org/3/library/math.html) might be helpful for this. If you use a seperate file you need to load the library as we did in Part 1 to read in the data. The import looks like this:"
   ]
  },
  {
   "cell_type": "code",
   "execution_count": 5,
   "metadata": {
    "collapsed": false
   },
   "outputs": [
    {
     "name": "stdout",
     "output_type": "stream",
     "text": [
      "My Function:  1.25501660016\n",
      "Error Checking:  1.25501660016\n"
     ]
    }
   ],
   "source": [
    "import math as m\n",
    "\n",
    "## your code goes here\n",
    "def standard_deviation(vector):\n",
    "    s = []\n",
    "    for i in vector:\n",
    "        s.append((i - mean(vector))**2)\n",
    "    std = sum(s)/len(vector)\n",
    "    return m.sqrt(std)\n",
    "\n",
    "# the call to your function\n",
    "print \"My Function: \", standard_deviation(temperature_vector)\n",
    "\n",
    "# check work\n",
    "import numpy as np\n",
    "print \"Error Checking: \", np.std(temperature_vector)"
   ]
  },
  {
   "cell_type": "markdown",
   "metadata": {},
   "source": [
    "**Your Interpretation:** The standard deviation of temperature for New Haven between years 1912 and 1971 is 1.2550166016 degrees Farenheit."
   ]
  },
  {
   "cell_type": "markdown",
   "metadata": {},
   "source": [
    "### Task 1.4: Histogram\n",
    "\n",
    "Write a function that takes a vector and an integer `b` and calculates a [histogram](https://en.wikipedia.org/wiki/Histogram) with `b` bins. The function should return an array containing two arrays. The first should be the counts for each bin, the second should contain the borders of the bins.\n",
    "\n",
    "For `b=5` your output should look like this: \n",
    "\n",
    "`[[3, 12, 33, 10, 2], [47.9, 49.24, 50.58, 51.92, 53.26, 54.6]]`\n",
    "\n",
    "Here, the first array gives the size of these bins, the second defines the bands. I.e., the first band from 47.9-49.24 has 3 entries, the second, from 49.24-50.58 has 12 entries, etc. \n",
    "\n",
    "Provide a written interpretation of your results. Comment on whether the histogram is skewed, and if so, in which direction."
   ]
  },
  {
   "cell_type": "code",
   "execution_count": 16,
   "metadata": {
    "collapsed": false
   },
   "outputs": [
    {
     "name": "stdout",
     "output_type": "stream",
     "text": [
      " My Function:  [[3, 12, 33, 10, 2], [47.9, 49.24, 50.58, 51.92, 53.26, 54.6]]\n",
      "\n",
      "Error Checking:  (array([ 3, 12, 33, 10,  2]), array([ 47.9 ,  49.24,  50.58,  51.92,  53.26,  54.6 ]))\n"
     ]
    }
   ],
   "source": [
    "## your code goes here\n",
    "def histogram(vector, bins):\n",
    "    vector = sorted(vector)\n",
    "    mx = max(vector)\n",
    "    mn = min(vector)\n",
    "    binL = (mx - mn)/bins\n",
    "    borders = [mn]\n",
    "    for n in range(bins):\n",
    "        b = borders[-1]+binL\n",
    "        borders.append(round(b,2))\n",
    "    counts = []\n",
    "    for c in range(len(borders)-1):\n",
    "        #counts.append(sum((borders[c] < vector) & (vector < borders[c+1])))\n",
    "        #counts.append(len([vector[(borders[c] < vector) & (vector < borders[c+1])]]))\n",
    "        counts.append(len([i for i,v in enumerate(temperature_vector) if (borders[c] <= v) & (v <= borders[c+1])]))\n",
    "    return  [counts,borders]\n",
    "    \n",
    "# the call to your function\n",
    "print \"My Function: \", histogram(temperature_vector,5)\n",
    "print ''\n",
    "# check work\n",
    "import numpy as np\n",
    "print \"Error Checking: \", np.histogram(temperature_vector,5)"
   ]
  },
  {
   "cell_type": "markdown",
   "metadata": {},
   "source": [
    "**Your interpretation:** Temperature data for New Haven between years 1912 and 1971 appears to be almost symmetrical, however there is a slight right skewedness. "
   ]
  },
  {
   "cell_type": "markdown",
   "metadata": {},
   "source": [
    "### Task 1.5: Filtering\n",
    "Write a function that takes a vector and returns a vector that contains every other element of the original vector. Print the result of the function as applied to the temperature vector.\n",
    "\n",
    "Hint: slicing might be helpful here."
   ]
  },
  {
   "cell_type": "code",
   "execution_count": 24,
   "metadata": {
    "collapsed": false
   },
   "outputs": [
    {
     "name": "stdout",
     "output_type": "stream",
     "text": [
      "My Function:  [49.9, 49.4, 49.4, 49.8, 49.3, 50.8, 49.3, 48.4, 50.9, 51.5, 51.8, 49.8, 50.4, 51.8, 48.8, 51.0, 51.7, 52.1, 51.0, 51.4, 53.1, 52.0, 50.9, 50.2, 51.6, 50.5, 51.7, 51.7, 51.9, 51.9]\n"
     ]
    }
   ],
   "source": [
    "## your code goes here\n",
    "def skip(v):\n",
    "    v = v[::2]\n",
    "    return v\n",
    "\n",
    "# the call to your function\n",
    "print \"My Function: \", skip(temperature_vector)"
   ]
  },
  {
   "cell_type": "markdown",
   "metadata": {},
   "source": [
    "## Part 2: Working with Matrices"
   ]
  },
  {
   "cell_type": "markdown",
   "metadata": {},
   "source": [
    "For the second part of the homework, we are going to work with matrices. The [dataset we will use](https://www.wunderground.com/history/airport/KSLC/2015/1/1/CustomHistory.html?dayend=31&monthend=12&yearend=2015&req_city=&req_state=&req_statename=&reqdb.zip=&reqdb.magic=&reqdb.wmo=) contains different properties of the weather in Salt Lake City for 2015 (temperature, humidity, sea level, ...). It is stored in the file [`SLC_2015.csv`](SLC_2015.csv) in this repository."
   ]
  },
  {
   "cell_type": "markdown",
   "metadata": {},
   "source": [
    "We first read the data from the file and store it in a nested python array (`weather_matrix`). A nested python array is an array, where each element is an array itself. Here is a simple example: "
   ]
  },
  {
   "cell_type": "code",
   "execution_count": 25,
   "metadata": {
    "collapsed": false
   },
   "outputs": [
    {
     "data": {
      "text/plain": [
       "[[1, 2, 3], ['a', 'b', 'c']]"
      ]
     },
     "execution_count": 25,
     "metadata": {},
     "output_type": "execute_result"
    }
   ],
   "source": [
    "arr1 = [1,2,3]\n",
    "arr2 = ['a', 'b', 'c']\n",
    "\n",
    "nestedArr = [arr1, arr2]\n",
    "nestedArr"
   ]
  },
  {
   "cell_type": "markdown",
   "metadata": {},
   "source": [
    "We provide you with the data import code, which will write the data into the nested list `temperature_matrix`. The list contains one list for each month, which, in turn, contain the mean temparature of every day of that month. "
   ]
  },
  {
   "cell_type": "code",
   "execution_count": 26,
   "metadata": {
    "collapsed": false
   },
   "outputs": [
    {
     "name": "stdout",
     "output_type": "stream",
     "text": [
      "[[15, 19, 26, 28, 37, 38, 38, 36, 35, 31, 39, 36, 35, 30, 31, 31, 37, 44, 40, 35, 31, 31, 31, 33, 42, 41, 44, 42, 36, 40, 39], [39, 49, 50, 50, 53, 57, 60, 53, 55, 45, 43, 47, 46, 48, 43, 40, 38, 44, 47, 44, 39, 33, 31, 35, 44, 35, 37, 36], [40, 37, 34, 33, 39, 43, 45, 45, 46, 50, 54, 50, 51, 56, 62, 63, 61, 53, 47, 53, 57, 54, 52, 47, 42, 48, 56, 62, 53, 57, 63], [46, 44, 44, 54, 60, 50, 52, 46, 49, 53, 58, 50, 57, 56, 33, 44, 50, 54, 56, 56, 60, 61, 61, 59, 51, 46, 50, 57, 65, 63], [63, 71, 68, 67, 62, 59, 58, 57, 49, 53, 59, 68, 65, 65, 53, 48, 56, 58, 55, 59, 58, 58, 55, 57, 62, 59, 61, 61, 64, 71, 76], [80, 68, 69, 68, 69, 70, 66, 73, 77, 78, 72, 74, 75, 76, 81, 77, 78, 83, 83, 78, 81, 78, 78, 83, 82, 84, 87, 88, 91, 89], [87, 87, 87, 89, 79, 79, 76, 75, 73, 72, 77, 79, 81, 77, 80, 80, 79, 74, 74, 73, 76, 77, 75, 78, 78, 84, 77, 66, 70, 76, 79], [80, 79, 69, 76, 82, 74, 76, 69, 72, 79, 83, 81, 83, 88, 83, 79, 77, 72, 74, 76, 81, 74, 76, 84, 85, 78, 77, 80, 85, 82, 75], [82, 83, 82, 80, 75, 60, 65, 66, 71, 73, 74, 76, 76, 74, 65, 57, 59, 56, 60, 65, 69, 71, 73, 72, 77, 79, 79, 74, 73, 77], [78, 64, 61, 62, 64, 65, 62, 65, 64, 69, 70, 64, 65, 67, 66, 66, 69, 66, 62, 56, 57, 55, 54, 57, 58, 58, 51, 49, 50, 45, 57], [61, 61, 53, 41, 39, 40, 40, 44, 51, 36, 40, 42, 41, 43, 48, 39, 32, 41, 42, 39, 34, 34, 35, 40, 45, 32, 28, 25, 25, 28], [29, 29, 32, 35, 36, 38, 37, 45, 51, 47, 37, 35, 36, 31, 26, 30, 23, 35, 41, 36, 38, 38, 31, 30, 23, 19, 17, 19, 21, 21, 12]]\n",
      "Mean temp on August 23: 76\n"
     ]
    }
   ],
   "source": [
    "# initialzie the 12 arrays for the months\n",
    "temperature_matrix = [[] for i in range(12)]\n",
    "\n",
    "# open the file and append the values of the last column to the array\n",
    "with open('SLC_2015.csv') as csvfile:\n",
    "    filereader = csv.reader(csvfile, delimiter=',', quotechar='|')\n",
    "    # get rid of the header\n",
    "    next(filereader)\n",
    "    for row in filereader:\n",
    "        month = int(row[0].split('/')[0])\n",
    "        mean_temp = int(row[2])\n",
    "        temperature_matrix[month-1].append(mean_temp)\n",
    "\n",
    "print(temperature_matrix)\n",
    "\n",
    "# the mean tempertarure on August 23. Note the index offset:\n",
    "print(\"Mean temp on August 23: \" + str(temperature_matrix[7][22]))\n"
   ]
  },
  {
   "cell_type": "markdown",
   "metadata": {},
   "source": [
    "We will now use the nested array `temperature_matrix` to compute the same metrics as in Part 1.\n",
    "\n",
    "**Note:** Since the lists in the matrix are of varying lengths (28 to 31 days) many of the standard NumPy functions won't work."
   ]
  },
  {
   "cell_type": "markdown",
   "metadata": {},
   "source": [
    "### Task 2.1: Calculates the mean of a whole matrix\n",
    "\n",
    "Write a function that calculates the mean of a matrix. For this version calculate the mean over all elements in the matrix as if it was one large vector. \n",
    "Pass in the matrix with the weather data and return the result. Provide a written interpretation of your results.\n",
    "Can you use your function from Part 1 and get a valid result?"
   ]
  },
  {
   "cell_type": "code",
   "execution_count": 52,
   "metadata": {
    "collapsed": false
   },
   "outputs": [
    {
     "name": "stdout",
     "output_type": "stream",
     "text": [
      "My Function:  56\n"
     ]
    }
   ],
   "source": [
    "## your code goes here\n",
    "def mean_matrix(mat):\n",
    "    all_days = []\n",
    "    for month in mat:\n",
    "        for day in month:\n",
    "            all_days.append(day)\n",
    "    return mean(all_days)\n",
    "    \n",
    "# the call to your function\n",
    "print \"My Function: \", mean_matrix(temperature_matrix)"
   ]
  },
  {
   "cell_type": "markdown",
   "metadata": {},
   "source": [
    "**Your Interpretation:** The mean temperature in Salt Lake City for 2015 is 56 degrees Farinheit. I am able to use my mean function created earlier in part of the code, however, you cannot use the mean function created earlier on the entire matrix as you will get a\n",
    "\n",
    "TypeError: unsupported operand type(s) for +: 'int' and 'list' \n"
   ]
  },
  {
   "cell_type": "markdown",
   "metadata": {},
   "source": [
    "### Task 2.2:  Calculate the mean of each vector of a matrix\n",
    "\n",
    "Write a function that calculates the mean temperature of each month and returns an array with the means for each column. Provide a written interpretation of your results. Can you use the function you implemented in Part 1 here efficiently? If so, use it."
   ]
  },
  {
   "cell_type": "code",
   "execution_count": 34,
   "metadata": {
    "collapsed": false
   },
   "outputs": [
    {
     "data": {
      "text/plain": [
       "[34, 44, 50, 52, 60, 77, 77, 78, 71, 61, 39, 31]"
      ]
     },
     "execution_count": 34,
     "metadata": {},
     "output_type": "execute_result"
    }
   ],
   "source": [
    "## your code goes here\n",
    "def mean_matrix_columns(mat):\n",
    "    month_means = []\n",
    "    for month in mat:    \n",
    "        mm = mean(month)\n",
    "        month_means.append(mm)\n",
    "    return month_means\n",
    "\n",
    "# the call to your function\n",
    "mean_matrix_columns(temperature_matrix)"
   ]
  },
  {
   "cell_type": "markdown",
   "metadata": {},
   "source": [
    "**Your Interpretation:** The mean temperatures for each month in Salt Lake City for 2015 are as follows: [34, 44, 50, 52, 60, 77, 77, 78, 71, 61, 39, 31]\n",
    "\n",
    "I was effectively able to use the mean function I created earlier."
   ]
  },
  {
   "cell_type": "markdown",
   "metadata": {},
   "source": [
    "### Task 2.3:  Calculate the median of a whole matrix\n",
    "\n",
    "Write a function that calculates and returns the median of a matrix over all values (independent from which row they are coming) and returns it. Provide a written interpretation of your results. Can you use your function from Part 1 and get a valid result?"
   ]
  },
  {
   "cell_type": "code",
   "execution_count": 53,
   "metadata": {
    "collapsed": false
   },
   "outputs": [
    {
     "data": {
      "text/plain": [
       "57.0"
      ]
     },
     "execution_count": 53,
     "metadata": {},
     "output_type": "execute_result"
    }
   ],
   "source": [
    "## your code goes here\n",
    "def median_matrix(mat):\n",
    "    all_days = []\n",
    "    for month in mat:\n",
    "        for day in month:\n",
    "            all_days.append(day)\n",
    "    return median(all_days)\n",
    "\n",
    "# the call to your function\n",
    "median_matrix(temperature_matrix)"
   ]
  },
  {
   "cell_type": "code",
   "execution_count": null,
   "metadata": {
    "collapsed": true
   },
   "outputs": [],
   "source": []
  },
  {
   "cell_type": "markdown",
   "metadata": {},
   "source": [
    "**Your Interpretation:** The median temperature in Salt Lake City for 2015 is 57.0 degrees Farinheit, which is close to the mean. I am able to use my median function created earlier in part of the code, however, you cannot use the median function created earlier on the entire matrix as you will get a\n",
    "\n",
    "TypeError: unsupported operand type(s) for +: 'int' and 'list'"
   ]
  },
  {
   "cell_type": "markdown",
   "metadata": {},
   "source": [
    "### Task 2.4: Calculate the median of each vector of a matrix\n",
    "\n",
    "Write a function that calculates the median of each sub array (i.e. each column in the csv file) in the matrix and returns an array of medians (one entry for column in the csv file). To do so, use the function you implemented in Part 1. Provide a written interpretation of your results. "
   ]
  },
  {
   "cell_type": "code",
   "execution_count": 44,
   "metadata": {
    "collapsed": false
   },
   "outputs": [
    {
     "data": {
      "text/plain": [
       "[36.0, 44.0, 51.0, 53.5, 59.0, 78.0, 77.0, 79.0, 73.0, 62.0, 40.0, 32.0]"
      ]
     },
     "execution_count": 44,
     "metadata": {},
     "output_type": "execute_result"
    }
   ],
   "source": [
    "## your code goes here\n",
    "def median_matrix_columns(mat):\n",
    "    month_med = []\n",
    "    for month in mat:\n",
    "        month_med.append(median(month))\n",
    "    return month_med\n",
    "\n",
    "# the call to your function\n",
    "median_matrix_columns(temperature_matrix)"
   ]
  },
  {
   "cell_type": "markdown",
   "metadata": {},
   "source": [
    "**Your Interpretation:** The median temperatures for each month in Salt Lake City for 2015 are as follows: [36.0, 44.0, 51.0, 53.5, 59.0, 78.0, 77.0, 79.0, 73.0, 62.0, 40.0, 32.0] - which are close to the monthly means of each month.\n",
    "\n",
    "I was effectively able to use the median function I created earlier."
   ]
  },
  {
   "cell_type": "markdown",
   "metadata": {},
   "source": [
    "### Task 2.5: Calculate the standard deviation of a whole matrix\n",
    "\n",
    "Write a function that calculates the standard deviation of a matrix over all values in the matrix (ignoring from which column they were coming) and returns it. Can you use your function from Part 1 and get a valid result? Provide a written interpretation of your results. "
   ]
  },
  {
   "cell_type": "code",
   "execution_count": 54,
   "metadata": {
    "collapsed": false
   },
   "outputs": [
    {
     "data": {
      "text/plain": [
       "17.916472867168917"
      ]
     },
     "execution_count": 54,
     "metadata": {},
     "output_type": "execute_result"
    }
   ],
   "source": [
    "## your code goes here\n",
    "def standard_deviation_matrix(mat):\n",
    "    all_days = []\n",
    "    for month in mat:\n",
    "        for day in month:\n",
    "            all_days.append(day)\n",
    "    return standard_deviation(all_days)\n",
    "\n",
    "# the call to your function\n",
    "standard_deviation_matrix(temperature_matrix)"
   ]
  },
  {
   "cell_type": "markdown",
   "metadata": {},
   "source": [
    "**Your Interpretation:** The Standard deviaiton in temperature in Salt Lake City for 2015 is 17.91647... degrees Farinheit. I am able to use my median function created earlier in part of the code, however, you cannot use the median function created earlier on the entire matrix as you will get a\n",
    "\n",
    "TypeError: unsupported operand type(s) for +: 'int' and 'list'"
   ]
  },
  {
   "cell_type": "markdown",
   "metadata": {},
   "source": [
    "### Task 2.6: Calculate the standard deviation of each vector of a matrix\n",
    "\n",
    "Write a function that calculates the standard deviation of each array in the matrix and returns an array of standard deviations (one standard deviation for each column). To do so, use the function you implemented in Part 1.\n",
    "Pass in the matrix with the temperature data and return the result. Provide a written interpretation of your results - is the standard deviation consistent across the seasons? "
   ]
  },
  {
   "cell_type": "code",
   "execution_count": 51,
   "metadata": {
    "collapsed": false
   },
   "outputs": [
    {
     "data": {
      "text/plain": [
       "[6.48074069840786,\n",
       " 7.3484692283495345,\n",
       " 8.246211251235321,\n",
       " 6.928203230275509,\n",
       " 6.244997998398398,\n",
       " 6.557438524302,\n",
       " 5.0,\n",
       " 4.58257569495584,\n",
       " 7.54983443527075,\n",
       " 6.928203230275509,\n",
       " 8.717797887081348,\n",
       " 8.94427190999916]"
      ]
     },
     "execution_count": 51,
     "metadata": {},
     "output_type": "execute_result"
    }
   ],
   "source": [
    "## your code goes here\n",
    "def standard_deviation_matrix_columns(mat):\n",
    "    month_std = []\n",
    "    for month in mat:\n",
    "        month_std.append(standard_deviation(month))\n",
    "    return month_std\n",
    "\n",
    "# the call to your function\n",
    "standard_deviation_matrix_columns(temperature_matrix)"
   ]
  },
  {
   "cell_type": "markdown",
   "metadata": {},
   "source": [
    "**Your Interpretation:** The standard deviation of temperatures for each month in Salt Lake City for 2015 are as follows: \n",
    "\n",
    "[6.48074069840786,\n",
    " 7.3484692283495345,\n",
    " 8.246211251235321,\n",
    " 6.928203230275509,\n",
    " 6.244997998398398,\n",
    " 6.557438524302,\n",
    " 5.0,\n",
    " 4.58257569495584,\n",
    " 7.54983443527075,\n",
    " 6.928203230275509,\n",
    " 8.717797887081348,\n",
    " 8.94427190999916]\n",
    "\n",
    "I was effectively able to use the median function I created earlier."
   ]
  }
 ],
 "metadata": {
  "anaconda-cloud": {},
  "kernelspec": {
   "display_name": "Python 2",
   "language": "python",
   "name": "python2"
  },
  "language_info": {
   "codemirror_mode": {
    "name": "ipython",
    "version": 2
   },
   "file_extension": ".py",
   "mimetype": "text/x-python",
   "name": "python",
   "nbconvert_exporter": "python",
   "pygments_lexer": "ipython2",
   "version": "2.7.12"
  }
 },
 "nbformat": 4,
 "nbformat_minor": 0
}
